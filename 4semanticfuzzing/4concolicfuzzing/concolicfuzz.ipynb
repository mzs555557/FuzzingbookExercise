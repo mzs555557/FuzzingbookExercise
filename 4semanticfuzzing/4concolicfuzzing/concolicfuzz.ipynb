{
 "cells": [
  {
   "cell_type": "code",
   "execution_count": 276,
   "metadata": {},
   "outputs": [
    {
     "name": "stdout",
     "output_type": "stream",
     "text": [
      "scalene\n"
     ]
    }
   ],
   "source": [
    "from fuzzingbook.ConcolicFuzzer import SimpleConcolicFuzzer, ConcolicTracer\n",
    "\n",
    "def triangle(a, b, c):\n",
    "    if a == b:\n",
    "        if b == c:\n",
    "            return 'equilateral'\n",
    "        else:\n",
    "            return 'isosceles'\n",
    "    else:\n",
    "        if b == c:\n",
    "            return 'isosceles'\n",
    "        else:\n",
    "            if a == c:\n",
    "                return 'isosceles'\n",
    "            else:\n",
    "                return 'scalene'\n",
    "\n",
    "with ConcolicTracer() as _:\n",
    "    print(_[triangle](1,2,3))\n"
   ]
  },
  {
   "cell_type": "code",
   "execution_count": 277,
   "metadata": {},
   "outputs": [
    {
     "data": {
      "text/plain": [
       "{'triangle_a_int_1': 'Int',\n",
       " 'triangle_b_int_2': 'Int',\n",
       " 'triangle_c_int_3': 'Int'}"
      ]
     },
     "execution_count": 277,
     "metadata": {},
     "output_type": "execute_result"
    }
   ],
   "source": [
    "_.decls"
   ]
  },
  {
   "cell_type": "code",
   "execution_count": 278,
   "metadata": {},
   "outputs": [
    {
     "data": {
      "text/plain": [
       "[Not(triangle_a_int_1 == triangle_b_int_2),\n",
       " Not(triangle_b_int_2 == triangle_c_int_3),\n",
       " Not(triangle_a_int_1 == triangle_c_int_3)]"
      ]
     },
     "execution_count": 278,
     "metadata": {},
     "output_type": "execute_result"
    }
   ],
   "source": [
    "_.path"
   ]
  },
  {
   "cell_type": "code",
   "execution_count": 279,
   "metadata": {},
   "outputs": [],
   "source": [
    "def cgi_decode(s):\n",
    "    \"\"\"Decode the CGI-encoded string `s`:\n",
    "       * replace \"+\" by \" \"\n",
    "       * replace \"%xx\" by the character with hex number xx.\n",
    "       Return the decoded string.  Raise `ValueError` for invalid inputs.\"\"\"\n",
    "\n",
    "    # Mapping of hex digits to their integer values\n",
    "    hex_values = {\n",
    "        '0': 0, '1': 1, '2': 2, '3': 3, '4': 4,\n",
    "        '5': 5, '6': 6, '7': 7, '8': 8, '9': 9,\n",
    "        'a': 10, 'b': 11, 'c': 12, 'd': 13, 'e': 14, 'f': 15,\n",
    "        'A': 10, 'B': 11, 'C': 12, 'D': 13, 'E': 14, 'F': 15,\n",
    "    }\n",
    "\n",
    "    t = ''\n",
    "    i = 0\n",
    "    while i < len(s):\n",
    "        c = s[i]\n",
    "        if c == '+':\n",
    "            t += ' '\n",
    "        elif c == '%':\n",
    "            digit_high, digit_low = s[i + 1], s[i + 2]\n",
    "            i = i + 2\n",
    "            found = 0\n",
    "            v = 0\n",
    "            for key in hex_values:\n",
    "                if key == digit_high:\n",
    "                    found = found + 1\n",
    "                    v = hex_values[key] * 16\n",
    "                    break\n",
    "            for key in hex_values:\n",
    "                if key == digit_low:\n",
    "                    found = found + 1\n",
    "                    v = v + hex_values[key]\n",
    "                    break\n",
    "            if found == 2:\n",
    "                if v >= 128:\n",
    "                    # z3.StringVal(urllib.parse.unquote('%80')) <-- bug in z3\n",
    "                    raise ValueError(\"Invalid encoding\")\n",
    "                t = t + chr(v)\n",
    "            else:\n",
    "                raise ValueError(\"Invalid encoding\")\n",
    "        else:\n",
    "            t = t + c\n",
    "        i = i + 1\n",
    "    return t\n",
    "\n"
   ]
  },
  {
   "cell_type": "markdown",
   "metadata": {},
   "source": [
    "ConcolicTracer在with块中使用；语法tracer[function]在tracer中执行函数，同时捕捉条件。下面是一个关于cgi_decode()函数的例子。"
   ]
  },
  {
   "cell_type": "code",
   "execution_count": 280,
   "metadata": {},
   "outputs": [
    {
     "name": "stdout",
     "output_type": "stream",
     "text": [
      "{'cgi_decode_s_str_1': 'String'}\n",
      "[Not(str.substr(cgi_decode_s_str_1, 0, 1) == \"+\"), Not(str.substr(cgi_decode_s_str_1, 0, 1) == \"%\"), Not(str.substr(cgi_decode_s_str_1, 1, 1) == \"+\"), str.substr(cgi_decode_s_str_1, 1, 1) == \"%\", Not(str.substr(cgi_decode_s_str_1, 2, 1) == \"0\"), Not(str.substr(cgi_decode_s_str_1, 2, 1) == \"1\"), str.substr(cgi_decode_s_str_1, 2, 1) == \"2\", str.substr(cgi_decode_s_str_1, 3, 1) == \"0\", Not(str.substr(cgi_decode_s_str_1, 4, 1) == \"+\"), Not(str.substr(cgi_decode_s_str_1, 4, 1) == \"%\")]\n",
      "('sat', {'s': \"A%20\"})\n"
     ]
    }
   ],
   "source": [
    "with ConcolicTracer() as _:\n",
    "    _[cgi_decode]('a%20d')\n",
    "\n",
    "print(_.decls)\n",
    "print(_.path)\n",
    "print(_.zeval(python=True))"
   ]
  },
  {
   "cell_type": "markdown",
   "metadata": {},
   "source": [
    "从ConcolicTracer获得的约束被添加到concolic fuzzer中，具体如下。"
   ]
  },
  {
   "cell_type": "code",
   "execution_count": 281,
   "metadata": {},
   "outputs": [],
   "source": [
    "scf = SimpleConcolicFuzzer()\n",
    "scf.add_trace(_, 'a%20d')"
   ]
  },
  {
   "cell_type": "markdown",
   "metadata": {},
   "source": [
    "然后，协和模糊器使用添加的约束条件来指导其模糊处理，如下所示。\n",
    "```python\n",
    "scf = SimpleConcolicFuzzer()\n",
    "for i in range(20):\n",
    "    v = scf.fuzz()\n",
    "    if v is None:\n",
    "        break\n",
    "    print(repr(v))\n",
    "    with ExpectError(print_traceback=False):\n",
    "        with ConcolicTracer() as _:\n",
    "            _[cgi_decode](v)\n",
    "    scf.add_trace(_, v)\n",
    "```"
   ]
  },
  {
   "cell_type": "markdown",
   "metadata": {},
   "source": [
    "SimpleConcolicFuzzer只是探索了样本输入所穿越的原始路径附近的所有路径。它使用一个简单的机制来探索它所知道的路径附近的路径，而除了代码路径之外，它对输入一无所知。\n",
    "\n",
    "另一方面，ConcolicGrammarFuzzer知道输入的语法，并能从被模糊处理的对象那里收集反馈。它可以解除语法中遇到的一些约束，从而实现更深入的模糊处理。它的使用方法如下。"
   ]
  },
  {
   "cell_type": "markdown",
   "metadata": {},
   "source": [
    "在关于信息流的章节中，我们已经看到动态污点如何通过指示输入的哪一部分到达有趣的地方来指导模糊处理。然而，动态污点跟踪在它所能传播的信息方面是有限的。例如，我们可能想探索当输入的某些属性发生变化时发生了什么。\n",
    "\n",
    "例如，假设我们有一个函数factorial()，它返回其输入的阶乘值。"
   ]
  },
  {
   "cell_type": "code",
   "execution_count": 282,
   "metadata": {},
   "outputs": [
    {
     "data": {
      "image/svg+xml": "<?xml version=\"1.0\" encoding=\"UTF-8\" standalone=\"no\"?>\n<!DOCTYPE svg PUBLIC \"-//W3C//DTD SVG 1.1//EN\"\n \"http://www.w3.org/Graphics/SVG/1.1/DTD/svg11.dtd\">\n<!-- Generated by graphviz version 2.43.0 (0)\n -->\n<!-- Title: %3 Pages: 1 -->\n<svg width=\"515pt\" height=\"564pt\"\n viewBox=\"0.00 0.00 515.01 564.00\" xmlns=\"http://www.w3.org/2000/svg\" xmlns:xlink=\"http://www.w3.org/1999/xlink\">\n<g id=\"graph0\" class=\"graph\" transform=\"scale(1 1) rotate(0) translate(4 560)\">\n<title>%3</title>\n<polygon fill=\"white\" stroke=\"transparent\" points=\"-4,4 -4,-560 511.01,-560 511.01,4 -4,4\"/>\n<!-- 1 -->\n<g id=\"node1\" class=\"node\">\n<title>1</title>\n<ellipse fill=\"none\" stroke=\"black\" cx=\"123\" cy=\"-534\" rx=\"104.78\" ry=\"18\"/>\n<ellipse fill=\"none\" stroke=\"black\" cx=\"123\" cy=\"-534\" rx=\"108.78\" ry=\"22\"/>\n<text text-anchor=\"middle\" x=\"123\" y=\"-530.3\" font-family=\"Times,serif\" font-size=\"14.00\">1: enter: factorial(n)</text>\n</g>\n<!-- 3 -->\n<g id=\"node7\" class=\"node\">\n<title>3</title>\n<polygon fill=\"none\" stroke=\"black\" points=\"123,-476 38.38,-458 123,-440 207.62,-458 123,-476\"/>\n<text text-anchor=\"middle\" x=\"123\" y=\"-454.3\" font-family=\"Times,serif\" font-size=\"14.00\">2: if: n &lt; 0</text>\n</g>\n<!-- 1&#45;&gt;3 -->\n<g id=\"edge5\" class=\"edge\">\n<title>1&#45;&gt;3</title>\n<path fill=\"none\" stroke=\"green\" d=\"M123,-511.99C123,-504.06 123,-494.91 123,-486.48\"/>\n<polygon fill=\"green\" stroke=\"green\" points=\"126.5,-486.31 123,-476.31 119.5,-486.31 126.5,-486.31\"/>\n</g>\n<!-- 2 -->\n<g id=\"node2\" class=\"node\">\n<title>2</title>\n<ellipse fill=\"none\" stroke=\"black\" cx=\"169\" cy=\"-22\" rx=\"96.69\" ry=\"18\"/>\n<ellipse fill=\"none\" stroke=\"black\" cx=\"169\" cy=\"-22\" rx=\"100.68\" ry=\"22\"/>\n<text text-anchor=\"middle\" x=\"169\" y=\"-18.3\" font-family=\"Times,serif\" font-size=\"14.00\">1: exit: factorial(n)</text>\n</g>\n<!-- 4 -->\n<g id=\"node3\" class=\"node\">\n<title>4</title>\n<polygon fill=\"none\" stroke=\"black\" points=\"122,-188 0,-188 0,-152 122,-152 122,-188\"/>\n<text text-anchor=\"middle\" x=\"61\" y=\"-166.3\" font-family=\"Times,serif\" font-size=\"14.00\">3: return None</text>\n</g>\n<!-- 4&#45;&gt;2 -->\n<g id=\"edge1\" class=\"edge\">\n<title>4&#45;&gt;2</title>\n<path fill=\"none\" stroke=\"red\" d=\"M73.6,-151.97C91.63,-127.59 125.05,-82.42 147.15,-52.53\"/>\n<polygon fill=\"red\" stroke=\"red\" points=\"150.21,-54.28 153.34,-44.16 144.58,-50.12 150.21,-54.28\"/>\n</g>\n<!-- 6 -->\n<g id=\"node4\" class=\"node\">\n<title>6</title>\n<polygon fill=\"none\" stroke=\"black\" points=\"197,-332 103,-332 103,-296 197,-296 197,-332\"/>\n<text text-anchor=\"middle\" x=\"150\" y=\"-310.3\" font-family=\"Times,serif\" font-size=\"14.00\">6: return 1</text>\n</g>\n<!-- 6&#45;&gt;2 -->\n<g id=\"edge2\" class=\"edge\">\n<title>6&#45;&gt;2</title>\n<path fill=\"none\" stroke=\"red\" d=\"M151.13,-295.73C154.24,-248.22 162.97,-115.09 166.96,-54.16\"/>\n<polygon fill=\"red\" stroke=\"red\" points=\"170.46,-54.21 167.62,-44 163.48,-53.75 170.46,-54.21\"/>\n</g>\n<!-- 8 -->\n<g id=\"node5\" class=\"node\">\n<title>8</title>\n<polygon fill=\"none\" stroke=\"black\" points=\"301,-260 207,-260 207,-224 301,-224 301,-260\"/>\n<text text-anchor=\"middle\" x=\"254\" y=\"-238.3\" font-family=\"Times,serif\" font-size=\"14.00\">9: return 1</text>\n</g>\n<!-- 8&#45;&gt;2 -->\n<g id=\"edge3\" class=\"edge\">\n<title>8&#45;&gt;2</title>\n<path fill=\"none\" stroke=\"red\" d=\"M247.33,-223.89C233,-187.14 199.11,-100.22 180.96,-53.68\"/>\n<polygon fill=\"red\" stroke=\"red\" points=\"184.13,-52.16 177.23,-44.12 177.61,-54.71 184.13,-52.16\"/>\n</g>\n<!-- 13 -->\n<g id=\"node6\" class=\"node\">\n<title>13</title>\n<polygon fill=\"none\" stroke=\"black\" points=\"318,-116 216,-116 216,-80 318,-80 318,-116\"/>\n<text text-anchor=\"middle\" x=\"267\" y=\"-94.3\" font-family=\"Times,serif\" font-size=\"14.00\">16: return v</text>\n</g>\n<!-- 13&#45;&gt;2 -->\n<g id=\"edge4\" class=\"edge\">\n<title>13&#45;&gt;2</title>\n<path fill=\"none\" stroke=\"green\" d=\"M244.27,-79.84C232.28,-70.79 217.32,-59.49 203.9,-49.35\"/>\n<polygon fill=\"green\" stroke=\"green\" points=\"205.87,-46.45 195.78,-43.22 201.65,-52.04 205.87,-46.45\"/>\n</g>\n<!-- 3&#45;&gt;4 -->\n<g id=\"edge6\" class=\"edge\">\n<title>3&#45;&gt;4</title>\n<path fill=\"none\" stroke=\"red\" d=\"M107.47,-442.84C97.76,-432.98 86,-418.96 80,-404 51.94,-334.05 54.59,-242.99 58.16,-198.24\"/>\n<polygon fill=\"red\" stroke=\"red\" points=\"61.66,-198.43 59.05,-188.16 54.69,-197.81 61.66,-198.43\"/>\n</g>\n<!-- 5 -->\n<g id=\"node8\" class=\"node\">\n<title>5</title>\n<polygon fill=\"none\" stroke=\"black\" points=\"185,-404 89.32,-386 185,-368 280.68,-386 185,-404\"/>\n<text text-anchor=\"middle\" x=\"185\" y=\"-382.3\" font-family=\"Times,serif\" font-size=\"14.00\">5: if: n == 0</text>\n</g>\n<!-- 3&#45;&gt;5 -->\n<g id=\"edge7\" class=\"edge\">\n<title>3&#45;&gt;5</title>\n<path fill=\"none\" stroke=\"green\" d=\"M135.85,-442.5C144.29,-432.96 155.52,-420.28 165.11,-409.46\"/>\n<polygon fill=\"green\" stroke=\"green\" points=\"167.73,-411.77 171.74,-401.97 162.49,-407.13 167.73,-411.77\"/>\n</g>\n<!-- 5&#45;&gt;6 -->\n<g id=\"edge8\" class=\"edge\">\n<title>5&#45;&gt;6</title>\n<path fill=\"none\" stroke=\"red\" d=\"M177.06,-369.12C172.94,-360.89 167.81,-350.62 163.13,-341.26\"/>\n<polygon fill=\"red\" stroke=\"red\" points=\"166.25,-339.67 158.65,-332.29 159.99,-342.8 166.25,-339.67\"/>\n</g>\n<!-- 7 -->\n<g id=\"node9\" class=\"node\">\n<title>7</title>\n<polygon fill=\"none\" stroke=\"black\" points=\"311,-332 215.32,-314 311,-296 406.68,-314 311,-332\"/>\n<text text-anchor=\"middle\" x=\"311\" y=\"-310.3\" font-family=\"Times,serif\" font-size=\"14.00\">8: if: n == 1</text>\n</g>\n<!-- 5&#45;&gt;7 -->\n<g id=\"edge9\" class=\"edge\">\n<title>5&#45;&gt;7</title>\n<path fill=\"none\" stroke=\"green\" d=\"M208.11,-372.16C228,-361.11 256.91,-345.05 279.02,-332.77\"/>\n<polygon fill=\"green\" stroke=\"green\" points=\"280.99,-335.67 288.04,-327.76 277.59,-329.55 280.99,-335.67\"/>\n</g>\n<!-- 7&#45;&gt;8 -->\n<g id=\"edge10\" class=\"edge\">\n<title>7&#45;&gt;8</title>\n<path fill=\"none\" stroke=\"red\" d=\"M298.91,-298.15C291.74,-289.35 282.47,-277.97 274.22,-267.83\"/>\n<polygon fill=\"red\" stroke=\"red\" points=\"276.9,-265.58 267.88,-260.04 271.48,-270 276.9,-265.58\"/>\n</g>\n<!-- 9 -->\n<g id=\"node10\" class=\"node\">\n<title>9</title>\n<polygon fill=\"none\" stroke=\"black\" points=\"415,-260 333,-260 333,-224 415,-224 415,-260\"/>\n<text text-anchor=\"middle\" x=\"374\" y=\"-238.3\" font-family=\"Times,serif\" font-size=\"14.00\">11: v = 1</text>\n</g>\n<!-- 7&#45;&gt;9 -->\n<g id=\"edge11\" class=\"edge\">\n<title>7&#45;&gt;9</title>\n<path fill=\"none\" stroke=\"green\" d=\"M324.36,-298.15C332.36,-289.26 342.73,-277.74 351.92,-267.53\"/>\n<polygon fill=\"green\" stroke=\"green\" points=\"354.58,-269.81 358.66,-260.04 349.37,-265.13 354.58,-269.81\"/>\n</g>\n<!-- 10 -->\n<g id=\"node11\" class=\"node\">\n<title>10</title>\n<polygon fill=\"none\" stroke=\"black\" points=\"382,-188 256.99,-170 382,-152 507.01,-170 382,-188\"/>\n<text text-anchor=\"middle\" x=\"382\" y=\"-166.3\" font-family=\"Times,serif\" font-size=\"14.00\">12: while: n != 0</text>\n</g>\n<!-- 9&#45;&gt;10 -->\n<g id=\"edge12\" class=\"edge\">\n<title>9&#45;&gt;10</title>\n<path fill=\"none\" stroke=\"green\" d=\"M375.98,-223.7C376.86,-215.98 377.92,-206.71 378.9,-198.11\"/>\n<polygon fill=\"green\" stroke=\"green\" points=\"382.39,-198.44 380.05,-188.1 375.43,-197.64 382.39,-198.44\"/>\n</g>\n<!-- 10&#45;&gt;13 -->\n<g id=\"edge16\" class=\"edge\">\n<title>10&#45;&gt;13</title>\n<path fill=\"none\" stroke=\"green\" d=\"M359.28,-155.17C343.42,-145.51 321.9,-132.41 303.63,-121.3\"/>\n<polygon fill=\"green\" stroke=\"green\" points=\"305.32,-118.23 294.96,-116.02 301.68,-124.21 305.32,-118.23\"/>\n</g>\n<!-- 11 -->\n<g id=\"node13\" class=\"node\">\n<title>11</title>\n<polygon fill=\"none\" stroke=\"black\" points=\"442,-116 336,-116 336,-80 442,-80 442,-116\"/>\n<text text-anchor=\"middle\" x=\"389\" y=\"-94.3\" font-family=\"Times,serif\" font-size=\"14.00\">13: v = v * n</text>\n</g>\n<!-- 10&#45;&gt;11 -->\n<g id=\"edge14\" class=\"edge\">\n<title>10&#45;&gt;11</title>\n<path fill=\"none\" stroke=\"green\" d=\"M383.69,-152.05C384.47,-144.35 385.4,-135.03 386.26,-126.36\"/>\n<polygon fill=\"green\" stroke=\"green\" points=\"389.76,-126.57 387.27,-116.28 382.79,-125.88 389.76,-126.57\"/>\n</g>\n<!-- 12 -->\n<g id=\"node12\" class=\"node\">\n<title>12</title>\n<polygon fill=\"none\" stroke=\"black\" points=\"481.5,-40 376.5,-40 376.5,-4 481.5,-4 481.5,-40\"/>\n<text text-anchor=\"middle\" x=\"429\" y=\"-18.3\" font-family=\"Times,serif\" font-size=\"14.00\">14: n = n &#45; 1</text>\n</g>\n<!-- 12&#45;&gt;10 -->\n<g id=\"edge13\" class=\"edge\">\n<title>12&#45;&gt;10</title>\n<path fill=\"none\" stroke=\"green\" d=\"M439.76,-40.24C450.31,-59.53 463.18,-91.3 451,-116 443.95,-130.31 430.97,-141.84 418.15,-150.44\"/>\n<polygon fill=\"green\" stroke=\"green\" points=\"416,-147.65 409.38,-155.92 419.72,-153.59 416,-147.65\"/>\n</g>\n<!-- 11&#45;&gt;12 -->\n<g id=\"edge15\" class=\"edge\">\n<title>11&#45;&gt;12</title>\n<path fill=\"none\" stroke=\"green\" d=\"M398.28,-79.84C403.22,-70.68 409.42,-59.23 414.94,-49.01\"/>\n<polygon fill=\"green\" stroke=\"green\" points=\"418.1,-50.53 419.77,-40.07 411.94,-47.2 418.1,-50.53\"/>\n</g>\n</g>\n</svg>\n",
      "text/plain": [
       "<graphviz.graphs.Digraph at 0x7ffb649c6f10>"
      ]
     },
     "execution_count": 282,
     "metadata": {},
     "output_type": "execute_result"
    }
   ],
   "source": [
    "def factorial(n):\n",
    "    if n < 0:\n",
    "        return None\n",
    "\n",
    "    if n == 0:\n",
    "        return 1\n",
    "\n",
    "    if n == 1:\n",
    "        return 1\n",
    "\n",
    "    v = 1\n",
    "    while n != 0:\n",
    "        v = v * n\n",
    "        n = n - 1\n",
    "\n",
    "    return v\n",
    "\n",
    "from fuzzingbook.Coverage import Coverage\n",
    "\n",
    "import inspect\n",
    "\n",
    "class ArcCoverage(Coverage):\n",
    "    def traceit(self, frame, event, args):\n",
    "        if event != 'return':\n",
    "            f = inspect.getframeinfo(frame)\n",
    "            self._trace.append((f.function, f.lineno))\n",
    "        return self.traceit\n",
    "\n",
    "    def arcs(self):\n",
    "        t = [i for f, i in self._trace]\n",
    "        return list(zip(t, t[1:]))\n",
    "\n",
    "with ArcCoverage() as cov:\n",
    "    factorial(5)\n",
    "\n",
    "from fuzzingbook.ControlFlow import to_graph, gen_cfg\n",
    "\n",
    "to_graph(gen_cfg(inspect.getsource(factorial)), arcs=cov.arcs())"
   ]
  },
  {
   "cell_type": "markdown",
   "metadata": {},
   "source": [
    "我们看到路径[1, 2, 5, 8, 11, 12, 13, 14]被覆盖（绿色），但子路径如[2, 3]、[5, 6]和[8, 9]则未被探索（红色）。我们需要的是产生输入的能力，使 \"真 \"分支在2处得到。"
   ]
  },
  {
   "cell_type": "markdown",
   "metadata": {},
   "source": [
    "### Concolic Execution\n",
    "\n",
    "覆盖额外分支的一种方法是查看正在采取的执行路径，并收集该路径所遇到的条件约束。然后我们可以尝试产生导致我们采取非遍历路径的输入。\n",
    "\n",
    "首先，让我们踏过这个函数。"
   ]
  },
  {
   "cell_type": "code",
   "execution_count": 283,
   "metadata": {},
   "outputs": [],
   "source": [
    "lines = [i[1] for i in cov._trace if i[0] == 'factorial']\n",
    "src = {i + 1: s for i, s in enumerate(\n",
    "    inspect.getsource(factorial).split('\\n'))}"
   ]
  },
  {
   "cell_type": "markdown",
   "metadata": {},
   "source": [
    "第(1)行只是该函数的入口点。我们知道，输入是n，是一个整数。\n",
    "\n",
    "第(2)行是一个谓词n<0。由于下一个取的行是第(5)行，我们知道在执行路径的这一点上，该谓词是假的。\n",
    "\n",
    "我们注意到这是一个没有采取真实分支的谓词。我们如何在这里生成一个采取真实分支的值呢？一种方法是使用符号变量来表示输入，对约束进行编码，并使用SMT求解器来解决约束的否定。\n",
    "\n",
    "正如我们在本章介绍中提到的，符号变量可以被认为是实数变量的一种占位符，有点像代数中求解x时的x。这些变量可以用来编码放在程序中的变量上的约束。我们确定变量应该服从哪些约束，最后产生一个服从所有施加的约束的值。"
   ]
  },
  {
   "cell_type": "code",
   "execution_count": 284,
   "metadata": {},
   "outputs": [
    {
     "name": "stdout",
     "output_type": "stream",
     "text": [
      "def factorial(n):\n",
      "    if n < 0:         return None      if n == 0:\n"
     ]
    }
   ],
   "source": [
    "print(src[1])\n",
    "print(src[2], src[3], src[4], src[5])"
   ]
  },
  {
   "cell_type": "markdown",
   "metadata": {},
   "source": [
    "## Solving Constraints\n",
    "\n",
    "为了解决这些约束，我们可以使用Satisfiability Modulo Theories（SMT）求解器。SMT求解器是建立在SAT（Satisfiability）求解器之上的。SAT求解器被用来检查一阶逻辑中的布尔公式（如(a | b )& (~a | ~b)）是否可以用任何变量的赋值来满足（如a = true, b = false）。SMT求解器将这些SAT求解器扩展到特定的背景理论--例如，整数理论，或字符串理论。也就是说，给定一个用字符串变量表达的公式的字符串约束（例如h + t == 'hello,world'），一个理解字符串理论的SMT求解器可以用来检查这个约束是否可以被满足，如果可以满足，就为公式中的变量提供一个具体数值的实例（例如h = 'hello,', t = 'world'）。"
   ]
  },
  {
   "cell_type": "code",
   "execution_count": 285,
   "metadata": {},
   "outputs": [
    {
     "name": "stdout",
     "output_type": "stream",
     "text": [
      "(4, 11, 2, 0)\n"
     ]
    }
   ],
   "source": [
    "import z3\n",
    "\n",
    "z3_ver = z3.get_version()\n",
    "\n",
    "print(z3_ver)"
   ]
  },
  {
   "cell_type": "code",
   "execution_count": 286,
   "metadata": {},
   "outputs": [],
   "source": [
    "assert z3_ver >= (4, 8, 13, 0), \\\n",
    "    f\"Please install z3-solver 4.8.13.0 or later - you have {z3_ver}\""
   ]
  },
  {
   "cell_type": "code",
   "execution_count": 287,
   "metadata": {},
   "outputs": [],
   "source": [
    "# 让我们首先设置Z3。为了确保我们在本章中使用的字符串约束被成功评估，我们需要指定z3str3求解器。此外，我们将Z3计算的超时时间设置为30秒。\n",
    "z3.set_option('timeout', 30 * 1000)"
   ]
  },
  {
   "cell_type": "code",
   "execution_count": 288,
   "metadata": {},
   "outputs": [
    {
     "name": "stdout",
     "output_type": "stream",
     "text": [
      "[(1, 2), (2, 5), (5, 8), (8, 11), (11, 12), (12, 13), (13, 14), (14, 12), (12, 13), (13, 14), (14, 12), (12, 13), (13, 14), (14, 12), (12, 13), (13, 14), (14, 12), (12, 13), (13, 14), (14, 12), (12, 16), (16, 262), (262, 263)]\n"
     ]
    }
   ],
   "source": [
    "print(cov.arcs())"
   ]
  },
  {
   "cell_type": "markdown",
   "metadata": {},
   "source": [
    "我们在这里所做的是使用具体的数值追踪与特定的输入阶乘(5)相对应的执行，同时保留符号的影子变量，使我们能够捕获约束。正如我们在介绍中提到的，这种使用符号变量跟踪具体执行的特殊执行方法被称为协同学执行。\n",
    "\n",
    "我们如何使这个过程自动化呢？一种方法是使用类似于信息流一章的基础结构，使用Python的继承性来创建可以跟踪具体执行的符号代理对象。"
   ]
  },
  {
   "cell_type": "markdown",
   "metadata": {},
   "source": [
    "## A Concolic Tracer\n",
    "\n",
    "现在让我们定义一个类来收集执行过程中的符号变量和路径条件。我们的想法是有一个ConcolicTracer类，在一个with块中被调用。为了执行一个函数，同时追踪其路径条件，我们需要转换其参数，我们通过[]项的访问来调用函数。\n",
    "现在让我们实现ConcolicTracer的构造函数，它接受一个单一的上下文参数，其中包含到目前为止看到的符号变量的声明和到目前为止看到的路径条件。我们只需要在嵌套上下文的情况下这样做。\n",
    "\n",
    "我们现在定义了可用于协程跟踪的协程代理对象。首先，我们定义了zproxy_create()方法，给定一个类名，正确地创建该类的实例，以及符号化的对应变量，并将符号化的变量注册到上下文信息环境中。"
   ]
  },
  {
   "cell_type": "code",
   "execution_count": 289,
   "metadata": {},
   "outputs": [],
   "source": [
    "def zproxy_create(cls, z_type, z3var, context, z_name, v=None):\n",
    "    z_value = cls(context, z3var(z_name), v)\n",
    "    context[0][z_name] = z_type  # add to decls\n",
    "    return z_value"
   ]
  },
  {
   "cell_type": "markdown",
   "metadata": {},
   "source": [
    "首先，我们定义了zbool类，用于跟踪遇到的谓词。它是一个封装类，包含符号（z）和具体（v）值。具体的值用来决定采取哪条路径，而符号值用来收集遇到的谓词。\n",
    "\n",
    "初始化分两部分进行。第一部分是使用zproxy_create()来正确地初始化和注册与传递的参数相对应的影子符号变量。这是在符号变量需要先被初始化的时候专门使用的。在所有其他情况下，构造函数是用预先存在的符号值调用的。"
   ]
  },
  {
   "cell_type": "code",
   "execution_count": 290,
   "metadata": {},
   "outputs": [],
   "source": [
    "class zbool:\n",
    "    @classmethod\n",
    "    def create(cls, context, z_name, v):\n",
    "        return zproxy_create(cls, 'Bool', z3.Bool, context, z_name, v)\n",
    "\n",
    "    def __init__(self, context, z, v=None):\n",
    "        self.context = context\n",
    "        self.z = z\n",
    "        self.v = v\n",
    "        self.decl, self.path = self.context"
   ]
  },
  {
   "cell_type": "markdown",
   "metadata": {},
   "source": [
    "下面是它的使用方法。我们在concolic tracer的当前上下文中创建一个符号变量my_bool_arg，其值为True。"
   ]
  },
  {
   "cell_type": "code",
   "execution_count": 291,
   "metadata": {},
   "outputs": [],
   "source": [
    "with ConcolicTracer() as _:\n",
    "    val = zbool.create(_.context, 'my_bool_arg', True)"
   ]
  },
  {
   "cell_type": "markdown",
   "metadata": {},
   "source": [
    "请注意，包围ConcolicTracer()的上下文被自动更新（通过zproxy_create()），以保持变量声明和类型。"
   ]
  },
  {
   "cell_type": "markdown",
   "metadata": {},
   "source": [
    "#### Negation of Encoded formula"
   ]
  },
  {
   "cell_type": "code",
   "execution_count": 292,
   "metadata": {},
   "outputs": [
    {
     "data": {
      "text/plain": [
       "({'my_bool_arg': 'Bool'}, [])"
      ]
     },
     "execution_count": 292,
     "metadata": {},
     "output_type": "execute_result"
    }
   ],
   "source": [
    "class zbool(zbool):\n",
    "    def __not__(self):\n",
    "        return zbool(self.context, z3.Not(self.z), not self.v)\n",
    "\n",
    "with ConcolicTracer() as _:\n",
    "    val = zbool.create(_.context, 'my_bool_arg', True)\n",
    "\n",
    "_.context"
   ]
  },
  {
   "cell_type": "markdown",
   "metadata": {},
   "source": [
    "### 注册条件语的谓语\n",
    "\n",
    "\n",
    "\n",
    "zbool类被用来跟踪程序执行中出现的布尔条件。它通过在上下文中注册相应的符号表达式来跟踪这些条件，只要它被评估。在评估时，__bool__()方法被调用；所以我们可以钩住这个方法。\n",
    "\n",
    "zint类经常被用来做算术，或与其他ints进行比较。这些ints可以是一个变量，也可以是一个常量值。我们定义了一个辅助方法_zv()，它可以检查给定值是哪种类型的int，并产生正确的符号等值。"
   ]
  },
  {
   "cell_type": "code",
   "execution_count": 293,
   "metadata": {},
   "outputs": [
    {
     "name": "stdout",
     "output_type": "stream",
     "text": [
      "0\n",
      "({'int_arg': 'Int'}, [])\n"
     ]
    }
   ],
   "source": [
    "class zint(int):\n",
    "    def __new__(cls, context, zn, v, *args, **kw):\n",
    "        return int.__new__(cls, v, *args, **kw)\n",
    "    \n",
    "    def __int__(self):\n",
    "        return self.v\n",
    "\n",
    "    def __pos__(self):\n",
    "        return self.v\n",
    "\n",
    "class zint(zint):\n",
    "    @classmethod\n",
    "    def create(cls, context, zn, v=None):\n",
    "        return zproxy_create(cls, 'Int', z3.Int, context, zn, v)\n",
    "\n",
    "    def __init__(self, context, z, v=None):\n",
    "        self.z, self.v = z, v\n",
    "        self.context = context\n",
    "\n",
    "with ConcolicTracer() as _:\n",
    "    val = zint.create(_.context, 'int_arg', 0)\n",
    "\n",
    "print(val.v)\n",
    "print(_.context)"
   ]
  },
  {
   "cell_type": "markdown",
   "metadata": {},
   "source": [
    "zint类经常被用来做算术，或与其他ints进行比较。这些ints可以是一个变量，也可以是一个常量值。我们定义了一个辅助方法_zv()，它可以检查给定值是哪种类型的int，并产生正确的符号等值。"
   ]
  },
  {
   "cell_type": "code",
   "execution_count": 295,
   "metadata": {},
   "outputs": [
    {
     "data": {
      "text/plain": [
       "(0, 0)"
      ]
     },
     "execution_count": 295,
     "metadata": {},
     "output_type": "execute_result"
    }
   ],
   "source": [
    "class zint(zint):\n",
    "    def _zv(self, o):\n",
    "        return (o.z, o.v) if isinstance(o, zint) else (z3.IntVal(o), o)\n",
    "\n",
    "with ConcolicTracer() as _:\n",
    "    val = zint.create(_.context, 'int_arg', 0)\n",
    "\n",
    "val._zv(0)"
   ]
  },
  {
   "cell_type": "code",
   "execution_count": 296,
   "metadata": {},
   "outputs": [
    {
     "data": {
      "text/plain": [
       "({'round10_r_int_1': 'Int'}, [])"
      ]
     },
     "execution_count": 296,
     "metadata": {},
     "output_type": "execute_result"
    }
   ],
   "source": [
    "\n",
    "\n",
    "def cgi_decode(s):\n",
    "    \"\"\"Decode the CGI-encoded string `s`:\n",
    "       * replace \"+\" by \" \"\n",
    "       * replace \"%xx\" by the character with hex number xx.\n",
    "       Return the decoded string.  Raise `ValueError` for invalid inputs.\"\"\"\n",
    "\n",
    "    # Mapping of hex digits to their integer values\n",
    "    hex_values = {\n",
    "        '0': 0, '1': 1, '2': 2, '3': 3, '4': 4,\n",
    "        '5': 5, '6': 6, '7': 7, '8': 8, '9': 9,\n",
    "        'a': 10, 'b': 11, 'c': 12, 'd': 13, 'e': 14, 'f': 15,\n",
    "        'A': 10, 'B': 11, 'C': 12, 'D': 13, 'E': 14, 'F': 15,\n",
    "    }\n",
    "\n",
    "    t = ''\n",
    "    i = 0\n",
    "    while i < len(s):\n",
    "        c = s[i]\n",
    "        if c == '+':\n",
    "            t += ' '\n",
    "        elif c == '%':\n",
    "            digit_high, digit_low = s[i + 1], s[i + 2]\n",
    "            i = i + 2\n",
    "            found = 0\n",
    "            v = 0\n",
    "            for key in hex_values:\n",
    "                if key == digit_high:\n",
    "                    found = found + 1\n",
    "                    v = hex_values[key] * 16\n",
    "                    break\n",
    "            for key in hex_values:\n",
    "                if key == digit_low:\n",
    "                    found = found + 1\n",
    "                    v = v + hex_values[key]\n",
    "                    break\n",
    "            if found == 2:\n",
    "                if v >= 128:\n",
    "                    # z3.StringVal(urllib.parse.unquote('%80')) <-- bug in z3\n",
    "                    raise ValueError(\"Invalid encoding\")\n",
    "                t = t + chr(v)\n",
    "            else:\n",
    "                raise ValueError(\"Invalid encoding\")\n",
    "        else:\n",
    "            t = t + c\n",
    "        i = i + 1\n",
    "    return t\n",
    "\n",
    "\n",
    "from fuzzingbook.ConcolicFuzzer import ConcolicTracer, SimpleConcolicFuzzer\n",
    "\n",
    "scf = SimpleConcolicFuzzer()\n",
    "scf.add_trace(_, 'a+c')"
   ]
  },
  {
   "cell_type": "code",
   "execution_count": 1,
   "metadata": {},
   "outputs": [
    {
     "data": {
      "text/plain": [
       "('sat', {'n': None, 'k': ('1', 'Int')})"
      ]
     },
     "execution_count": 1,
     "metadata": {},
     "output_type": "execute_result"
    }
   ],
   "source": [
    "from fuzzingbook.ConcolicFuzzer import ConcolicTracer, SimpleConcolicFuzzer\n",
    "\n",
    "def factorial(n):\n",
    "    v = 1\n",
    "    while n != 0:\n",
    "        v *= n\n",
    "        n -= 1\n",
    "\n",
    "    return v\n",
    "\n",
    "def permutation(n, k):\n",
    "    return factorial(n) / factorial(n - k)\n",
    "\n",
    "def combination(n, k):\n",
    "    return permutation(n, k) / factorial(k)\n",
    "\n",
    "def binomial(n, k):\n",
    "    if n < 0 or k < 0 or n < k:\n",
    "        raise Exception('Invalid values')\n",
    "    return combination(n, k)\n",
    "\n",
    "with ConcolicTracer() as _:\n",
    "    v = _[binomial](4, 2)\n",
    "\n",
    "_.zeval()\n"
   ]
  },
  {
   "cell_type": "code",
   "execution_count": 2,
   "metadata": {},
   "outputs": [
    {
     "data": {
      "text/plain": [
       "('sat', {'n': None, 'k': ('1', 'Int')})"
      ]
     },
     "execution_count": 2,
     "metadata": {},
     "output_type": "execute_result"
    }
   ],
   "source": [
    "from fuzzingbook.ConcolicFuzzer import ConcolicTracer\n",
    "\n",
    "def factorial(n):\n",
    "    v = 1\n",
    "    while n != 0:\n",
    "        v *= n\n",
    "        n -= 1\n",
    "\n",
    "    return v\n",
    "\n",
    "def permutation(n, k):\n",
    "    return factorial(n) / factorial(n - k)\n",
    "\n",
    "def combination(n, k):\n",
    "    return permutation(n, k) / factorial(k)\n",
    "\n",
    "def binomial(n, k):\n",
    "    if n < 0 or k < 0 or n < k:\n",
    "        raise Exception('Invalid values')\n",
    "    return combination(n, k)\n",
    "\n",
    "with ConcolicTracer() as _:\n",
    "    v = _[binomial](4, 2)\n",
    "\n",
    "_.zeval()"
   ]
  }
 ],
 "metadata": {
  "kernelspec": {
   "display_name": "Python 3.8.10 64-bit",
   "language": "python",
   "name": "python3"
  },
  "language_info": {
   "codemirror_mode": {
    "name": "ipython",
    "version": 3
   },
   "file_extension": ".py",
   "mimetype": "text/x-python",
   "name": "python",
   "nbconvert_exporter": "python",
   "pygments_lexer": "ipython3",
   "version": "3.8.10"
  },
  "orig_nbformat": 4,
  "vscode": {
   "interpreter": {
    "hash": "31f2aee4e71d21fbe5cf8b01ff0e069b9275f58929596ceb00d14d90e3e16cd6"
   }
  }
 },
 "nbformat": 4,
 "nbformat_minor": 2
}
